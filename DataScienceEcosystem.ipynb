{
  "metadata": {
    "language_info": {
      "codemirror_mode": {
        "name": "python",
        "version": 3
      },
      "file_extension": ".py",
      "mimetype": "text/x-python",
      "name": "python",
      "nbconvert_exporter": "python",
      "pygments_lexer": "ipython3",
      "version": "3.8"
    },
    "kernelspec": {
      "name": "python",
      "display_name": "Python (Pyodide)",
      "language": "python"
    }
  },
  "nbformat_minor": 4,
  "nbformat": 4,
  "cells": [
    {
      "cell_type": "markdown",
      "source": "# Data Science Tools and Ecosystems",
      "metadata": {}
    },
    {
      "cell_type": "markdown",
      "source": "## In this notebook, data science tools and ecosystems are summarised",
      "metadata": {}
    },
    {
      "cell_type": "markdown",
      "source": "### Some of the most popular languages used in data science are:-\n| Sr. No | Language|\n|--------|---------|\n| 1 | R |\n| 2 | SQL |\n| 3 | Python |",
      "metadata": {}
    },
    {
      "cell_type": "markdown",
      "source": "**Objectives:-** \\\nList popular languages for Data Science\n+ R\n+ SQL \n+ Python\n+ Scala\n+ C++\n+ Java\n+ Julia",
      "metadata": {}
    },
    {
      "cell_type": "markdown",
      "source": "**Some of the commonly used libraries in Data Science are** :-\n| Sr. No | Libraries|\n|--------|---------|\n| 1 | GGplot |\n| 2 | Matplotlib |\n| 3 | Pandas |\n| 4 | Numpy |\n| 5 | Seaborn |",
      "metadata": {}
    },
    {
      "cell_type": "markdown",
      "source": "|**_Datascience tools_**|\n|-----------------------|\n| Rstudio |\n| Watson Studio |\n| Jupyter Lab |",
      "metadata": {}
    },
    {
      "cell_type": "markdown",
      "source": "### Below are a few examples of evaluating arithmetic expressions in Python",
      "metadata": {}
    },
    {
      "cell_type": "code",
      "source": "(3*4)+5\n# this is a simply arithmetic operation to add and multiply integers",
      "metadata": {
        "trusted": true
      },
      "execution_count": 1,
      "outputs": [
        {
          "execution_count": 1,
          "output_type": "execute_result",
          "data": {
            "text/plain": "17"
          },
          "metadata": {}
        }
      ]
    },
    {
      "cell_type": "code",
      "source": "200/60\n# This will convert 200 minutes to hours by diving by 60.",
      "metadata": {
        "trusted": true
      },
      "execution_count": 2,
      "outputs": [
        {
          "execution_count": 2,
          "output_type": "execute_result",
          "data": {
            "text/plain": "3.3333333333333335"
          },
          "metadata": {}
        }
      ]
    },
    {
      "cell_type": "markdown",
      "source": "## Author\nSarath Menon",
      "metadata": {}
    },
    {
      "cell_type": "code",
      "source": "",
      "metadata": {},
      "execution_count": null,
      "outputs": []
    }
  ]
}